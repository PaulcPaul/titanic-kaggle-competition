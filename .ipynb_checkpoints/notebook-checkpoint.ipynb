{
 "cells": [
  {
   "cell_type": "code",
   "execution_count": 2,
   "metadata": {},
   "outputs": [],
   "source": [
    "import numpy as np # linear algebra\n",
    "import pandas as pd # data processing, CSV file I/O (e.g. pd.read_csv)\n",
    "import matplotlib.pyplot as plt # for plotting purposes\n",
    "import seaborn as sns # for prettiness purposes\n",
    "import sklearn # machine learning library"
   ]
  },
  {
   "cell_type": "code",
   "execution_count": 3,
   "metadata": {
    "scrolled": true
   },
   "outputs": [
    {
     "name": "stdout",
     "output_type": "stream",
     "text": [
      "   PassengerId  Survived  Pclass  \\\n",
      "0            1         0       3   \n",
      "1            2         1       1   \n",
      "2            3         1       3   \n",
      "3            4         1       1   \n",
      "4            5         0       3   \n",
      "\n",
      "                                                Name     Sex   Age  SibSp  \\\n",
      "0                            Braund, Mr. Owen Harris    male  22.0      1   \n",
      "1  Cumings, Mrs. John Bradley (Florence Briggs Th...  female  38.0      1   \n",
      "2                             Heikkinen, Miss. Laina  female  26.0      0   \n",
      "3       Futrelle, Mrs. Jacques Heath (Lily May Peel)  female  35.0      1   \n",
      "4                           Allen, Mr. William Henry    male  35.0      0   \n",
      "\n",
      "   Parch            Ticket     Fare Cabin Embarked  \n",
      "0      0         A/5 21171   7.2500   NaN        S  \n",
      "1      0          PC 17599  71.2833   C85        C  \n",
      "2      0  STON/O2. 3101282   7.9250   NaN        S  \n",
      "3      0            113803  53.1000  C123        S  \n",
      "4      0            373450   8.0500   NaN        S  \n"
     ]
    }
   ],
   "source": [
    "train = pd.read_csv('train.csv')\n",
    "test = pd.read_csv('test.csv')\n",
    "\n",
    "print(train.head(n=5))"
   ]
  },
  {
   "cell_type": "code",
   "execution_count": 4,
   "metadata": {
    "scrolled": false
   },
   "outputs": [
    {
     "data": {
      "image/png": "[encoded data removed]",
      "text/plain": [
       "<Figure size 432x288 with 1 Axes>"
      ]
     },
     "metadata": {
      "needs_background": "light"
     },
     "output_type": "display_data"
    }
   ],
   "source": [
    "# plot survival bar plot for men and women on the train set\n",
    "\n",
    "interest = train[['Survived', 'Sex']]\n",
    "\n",
    "labels = ('Male', 'Female')\n",
    "\n",
    "m_alive = 0\n",
    "f_alive = 0\n",
    "for i in interest.itertuples():\n",
    "    if i.Sex == 'male':\n",
    "        m_alive += i.Survived\n",
    "    else:\n",
    "        f_alive += i.Survived\n",
    "        \n",
    "x_pos = np.arange(len(labels)) # pos of the x labels on the axis, i.e 0, 1, 2...\n",
    "num_survivors = [m_alive, f_alive] # data for each label\n",
    " \n",
    "plt.bar(x_pos, num_survivors, alpha=0.7)\n",
    "plt.xticks(x_pos, labels)\n",
    "plt.ylabel('Survivors')\n",
    "\n",
    "plt.show()"
   ]
  },
  {
   "cell_type": "code",
   "execution_count": 5,
   "metadata": {},
   "outputs": [],
   "source": [
    "# create features and target lists\n",
    "\n",
    "train_frame = train[['Sex', 'Pclass', 'Age', 'Fare', 'Survived']].interpolate()\n",
    "test_frame = test[['Sex', 'Pclass', 'Age', 'Fare']].interpolate()\n",
    "\n",
    "train_data = []\n",
    "train_target = []\n",
    "\n",
    "test_data = []\n",
    "\n",
    "for i in train_frame.itertuples():\n",
    "    sex = (0 if i.Sex == 'male' else 1)\n",
    "    \n",
    "    train_data.append([sex, i.Pclass, i.Age, i.Fare])\n",
    "    train_target.append(i.Survived)\n",
    "\n",
    "for i in test_frame.itertuples():\n",
    "    sex = (0 if i.Sex == 'male' else 1)\n",
    "    \n",
    "    test_data.append([sex, i.Pclass, i.Age, i.Fare])"
   ]
  },
  {
   "cell_type": "code",
   "execution_count": 6,
   "metadata": {},
   "outputs": [
    {
     "name": "stdout",
     "output_type": "stream",
     "text": [
      "X_train shape:  (668, 4)\n",
      "y_train shape:  (668,)\n"
     ]
    }
   ],
   "source": [
    "from sklearn.model_selection import train_test_split\n",
    "\n",
    "X_train, X_test, y_train, y_test = train_test_split(np.array(train_data), np.array(train_target), random_state=0)\n",
    "print(\"X_train shape: \", X_train.shape)\n",
    "print(\"y_train shape: \", y_train.shape)"
   ]
  },
  {
   "cell_type": "code",
   "execution_count": 7,
   "metadata": {},
   "outputs": [],
   "source": [
    "mean_on_train = X_train.mean(axis=0)\n",
    "std_on_train = X_train.std(axis=0)\n",
    "\n",
    "X_train_scaled = (X_train - mean_on_train) / std_on_train\n",
    "X_test_scaled = (X_test - mean_on_train) / std_on_train"
   ]
  },
  {
   "cell_type": "code",
   "execution_count": 8,
   "metadata": {},
   "outputs": [
    {
     "name": "stdout",
     "output_type": "stream",
     "text": [
      "[[-0.72705166  0.83012938 -0.1350918  -0.48380773]\n",
      " [ 1.37541808  0.83012938 -0.92769684 -0.48323058]\n",
      " [-0.72705166  0.83012938  0.0090182  -0.32165051]\n",
      " [-0.72705166  0.83012938 -0.56742182 -0.49657206]\n",
      " [ 1.37541808 -0.36497068  1.08984325 -0.37303989]\n",
      " [-0.72705166  0.83012938 -0.35125681 -0.63986937]\n",
      " [-0.72705166  0.83012938 -0.85564183 -0.24036634]\n",
      " [-0.72705166  0.83012938  0.22518321 -0.45210048]\n",
      " [ 1.37541808 -0.36497068 -0.42331182  0.64486518]\n",
      " [ 1.37541808  0.83012938 -0.27920181 -0.48323058]]\n"
     ]
    }
   ],
   "source": [
    "from sklearn.preprocessing import StandardScaler\n",
    "\n",
    "scaler = StandardScaler()\n",
    "\n",
    "X_train_robust = scaler.fit_transform(X_train)\n",
    "X_test_robust = scaler.transform(X_test)\n",
    "\n",
    "print(X_train_robust[:10])"
   ]
  },
  {
   "cell_type": "code",
   "execution_count": 9,
   "metadata": {},
   "outputs": [],
   "source": [
    "from nnet import NeuralNetwork"
   ]
  },
  {
   "cell_type": "code",
   "execution_count": 10,
   "metadata": {
    "scrolled": false
   },
   "outputs": [
    {
     "name": "stdout",
     "output_type": "stream",
     "text": [
      "[-0.16595599  0.44064899 -0.99977125 -0.39533485]\n"
     ]
    }
   ],
   "source": [
    "neural_network = NeuralNetwork()\n",
    "print(neural_network.synaptic_weights)\n",
    "neural_network.train(X_train_robust, y_train.T, 2000)"
   ]
  },
  {
   "cell_type": "code",
   "execution_count": 11,
   "metadata": {},
   "outputs": [
    {
     "name": "stdout",
     "output_type": "stream",
     "text": [
      "Scikit neural network accuracy: 0.6591928251121076\n"
     ]
    }
   ],
   "source": [
    "predictions = []\n",
    "\n",
    "for i in X_test_robust:\n",
    "    predictions.append(neural_network.predict(i))\n",
    "\n",
    "predictions = np.around(predictions)\n",
    "\n",
    "positives = 0\n",
    "\n",
    "for j in range(len(predictions)):\n",
    "    if predictions[j] == y_test[j]:\n",
    "        positives += 1\n",
    "\n",
    "print(\"Scikit neural network accuracy: {}\".format(positives/len(y_test)))"
   ]
  },
  {
   "cell_type": "code",
   "execution_count": 12,
   "metadata": {},
   "outputs": [
    {
     "name": "stdout",
     "output_type": "stream",
     "text": [
      "Random Forest:  0.8699551569506726\n",
      "Gradient Boost:  0.8295964125560538\n",
      "Extra Trees:  0.820627802690583\n"
     ]
    }
   ],
   "source": [
    "# compute accuracy of every model\n",
    "import warnings\n",
    "\n",
    "with warnings.catch_warnings():\n",
    "    warnings.filterwarnings(\"ignore\")\n",
    "    \n",
    "    from sklearn.ensemble import RandomForestClassifier\n",
    "    from sklearn.ensemble import GradientBoostingClassifier\n",
    "    from sklearn.ensemble import ExtraTreesClassifier\n",
    "\n",
    "    rfc = RandomForestClassifier(random_state=0)\n",
    "    gbc = GradientBoostingClassifier(random_state=0)\n",
    "    etc = ExtraTreesClassifier(random_state=0)\n",
    "    rfc.fit(X_train_robust, y_train)\n",
    "    gbc.fit(X_train_robust, y_train)\n",
    "    etc.fit(X_train_robust, y_train)\n",
    "\n",
    "    print(\"Random Forest: \", rfc.score(X_test_robust, y_test))\n",
    "    print(\"Gradient Boost: \", gbc.score(X_test_robust, y_test))\n",
    "    print(\"Extra Trees: \", etc.score(X_test_robust, y_test))"
   ]
  }
 ],
 "metadata": {
  "anaconda-cloud": {},
  "kernelspec": {
   "display_name": "Python 3",
   "language": "python",
   "name": "python3"
  },
  "language_info": {
   "codemirror_mode": {
    "name": "ipython",
    "version": 3
   },
   "file_extension": ".py",
   "mimetype": "text/x-python",
   "name": "python",
   "nbconvert_exporter": "python",
   "pygments_lexer": "ipython3",
   "version": "3.7.4"
  }
 },
 "nbformat": 4,
 "nbformat_minor": 1
}
